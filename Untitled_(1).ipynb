{
  "cells": [
    {
      "cell_type": "markdown",
      "metadata": {
        "id": "view-in-github",
        "colab_type": "text"
      },
      "source": [
        "<a href=\"https://colab.research.google.com/github/Fardeen210/Fardeen210/blob/master/Untitled_(1).ipynb\" target=\"_parent\"><img src=\"https://colab.research.google.com/assets/colab-badge.svg\" alt=\"Open In Colab\"/></a>"
      ]
    },
    {
      "cell_type": "code",
      "execution_count": null,
      "id": "15ca9ccf-af25-49d9-b1ad-5de0f1fd77a4",
      "metadata": {
        "id": "15ca9ccf-af25-49d9-b1ad-5de0f1fd77a4"
      },
      "outputs": [],
      "source": [
        "# installed all relavant library to acess unstructured open source library,\n",
        "\n",
        "# Before installing there are bunch of other supporting libraries need to be installed"
      ]
    },
    {
      "cell_type": "code",
      "execution_count": null,
      "id": "6c60f6ef-3dda-425e-8160-8007e750e019",
      "metadata": {
        "id": "6c60f6ef-3dda-425e-8160-8007e750e019"
      },
      "outputs": [],
      "source": [
        "import unstructured"
      ]
    },
    {
      "cell_type": "code",
      "execution_count": null,
      "id": "8c59d5bc-0f53-4d6b-b4cd-2fa81e257c9f",
      "metadata": {
        "id": "8c59d5bc-0f53-4d6b-b4cd-2fa81e257c9f"
      },
      "outputs": [],
      "source": [
        "# Importing partition_pdf\n",
        "# file_path and output needed to be defined"
      ]
    },
    {
      "cell_type": "code",
      "execution_count": null,
      "id": "3a73f8dd-6b62-4d58-ac41-ab223a385a14",
      "metadata": {
        "id": "3a73f8dd-6b62-4d58-ac41-ab223a385a14"
      },
      "outputs": [],
      "source": [
        "from unstructured.partition.pdf import partition_pdf\n",
        "# sample file in my local drive\n",
        "file_path = r\"C:\\Users\\Administrator\\Downloads\\article_sample_1.pdf\"\n",
        "# file path for images of figure and tables present in sample file\n",
        "output_dir = r\"C:\\Text_Summarization\\sample_images\""
      ]
    },
    {
      "cell_type": "code",
      "execution_count": null,
      "id": "c912a458-f7eb-41c3-b3bb-288cbe98719e",
      "metadata": {
        "id": "c912a458-f7eb-41c3-b3bb-288cbe98719e"
      },
      "outputs": [],
      "source": [
        "# Iam using direct code from unstructred opensource docs.\n",
        "    # Note: Make sure strategy need to be: \"hi_res\"\n",
        "# to save images in a folder, attribute: extract_image_block_to_payload should be False"
      ]
    },
    {
      "cell_type": "code",
      "execution_count": null,
      "id": "e0b329b4-ff29-4efa-a74d-fa33c2b74aa3",
      "metadata": {
        "collapsed": true,
        "id": "e0b329b4-ff29-4efa-a74d-fa33c2b74aa3",
        "outputId": "222e028c-9bbb-4d90-fc0b-c40b05581ff8"
      },
      "outputs": [
        {
          "ename": "KeyboardInterrupt",
          "evalue": "",
          "output_type": "error",
          "traceback": [
            "\u001b[1;31m---------------------------------------------------------------------------\u001b[0m",
            "\u001b[1;31mKeyboardInterrupt\u001b[0m                         Traceback (most recent call last)",
            "Cell \u001b[1;32mIn[3], line 3\u001b[0m\n\u001b[0;32m      1\u001b[0m \u001b[38;5;66;03m# here we are extracting images and tables in jpeg format into my local drive \u001b[39;00m\n\u001b[1;32m----> 3\u001b[0m elements\u001b[38;5;241m=\u001b[39m \u001b[43mpartition_pdf\u001b[49m\u001b[43m(\u001b[49m\n\u001b[0;32m      4\u001b[0m \u001b[43m    \u001b[49m\u001b[43mfilename\u001b[49m\u001b[38;5;241;43m=\u001b[39;49m\u001b[43mfile_path\u001b[49m\u001b[43m,\u001b[49m\u001b[43m                  \u001b[49m\u001b[38;5;66;43;03m# mandatory\u001b[39;49;00m\n\u001b[0;32m      5\u001b[0m \u001b[43m    \u001b[49m\u001b[43mstrategy\u001b[49m\u001b[38;5;241;43m=\u001b[39;49m\u001b[38;5;124;43m\"\u001b[39;49m\u001b[38;5;124;43mhi_res\u001b[39;49m\u001b[38;5;124;43m\"\u001b[39;49m\u001b[43m,\u001b[49m\u001b[43m                                     \u001b[49m\u001b[38;5;66;43;03m# mandatory to use ``hi_res`` strategy\u001b[39;49;00m\n\u001b[0;32m      6\u001b[0m \u001b[43m    \u001b[49m\u001b[43mextract_images_in_pdf\u001b[49m\u001b[38;5;241;43m=\u001b[39;49m\u001b[38;5;28;43;01mTrue\u001b[39;49;00m\u001b[43m,\u001b[49m\u001b[43m                            \u001b[49m\u001b[38;5;66;43;03m# mandatory to set as ``True``\u001b[39;49;00m\n\u001b[0;32m      7\u001b[0m \u001b[43m    \u001b[49m\u001b[43mextract_image_block_types\u001b[49m\u001b[38;5;241;43m=\u001b[39;49m\u001b[43m[\u001b[49m\u001b[38;5;124;43m\"\u001b[39;49m\u001b[38;5;124;43mImage\u001b[39;49m\u001b[38;5;124;43m\"\u001b[39;49m\u001b[43m,\u001b[49m\u001b[43m \u001b[49m\u001b[38;5;124;43m\"\u001b[39;49m\u001b[38;5;124;43mTable\u001b[39;49m\u001b[38;5;124;43m\"\u001b[39;49m\u001b[43m]\u001b[49m\u001b[43m,\u001b[49m\u001b[43m          \u001b[49m\u001b[38;5;66;43;03m# optional\u001b[39;49;00m\n\u001b[0;32m      8\u001b[0m \u001b[43m    \u001b[49m\u001b[43mextract_image_block_to_payload\u001b[49m\u001b[38;5;241;43m=\u001b[39;49m\u001b[38;5;28;43;01mFalse\u001b[39;49;00m\u001b[43m,\u001b[49m\u001b[43m                  \u001b[49m\u001b[38;5;66;43;03m# optional\u001b[39;49;00m\n\u001b[0;32m      9\u001b[0m \u001b[43m    \u001b[49m\u001b[43mextract_image_block_output_dir\u001b[49m\u001b[38;5;241;43m=\u001b[39;49m\u001b[43moutput_dir\u001b[49m\u001b[43m          \u001b[49m\n\u001b[0;32m     10\u001b[0m \u001b[43m)\u001b[49m\n",
            "File \u001b[1;32m~\\AppData\\Local\\Programs\\Python\\Python311\\Lib\\site-packages\\unstructured\\documents\\elements.py:578\u001b[0m, in \u001b[0;36mprocess_metadata.<locals>.decorator.<locals>.wrapper\u001b[1;34m(*args, **kwargs)\u001b[0m\n\u001b[0;32m    576\u001b[0m \u001b[38;5;129m@functools\u001b[39m\u001b[38;5;241m.\u001b[39mwraps(func)\n\u001b[0;32m    577\u001b[0m \u001b[38;5;28;01mdef\u001b[39;00m \u001b[38;5;21mwrapper\u001b[39m(\u001b[38;5;241m*\u001b[39margs: _P\u001b[38;5;241m.\u001b[39margs, \u001b[38;5;241m*\u001b[39m\u001b[38;5;241m*\u001b[39mkwargs: _P\u001b[38;5;241m.\u001b[39mkwargs) \u001b[38;5;241m-\u001b[39m\u001b[38;5;241m>\u001b[39m \u001b[38;5;28mlist\u001b[39m[Element]:\n\u001b[1;32m--> 578\u001b[0m     elements \u001b[38;5;241m=\u001b[39m \u001b[43mfunc\u001b[49m\u001b[43m(\u001b[49m\u001b[38;5;241;43m*\u001b[39;49m\u001b[43margs\u001b[49m\u001b[43m,\u001b[49m\u001b[43m \u001b[49m\u001b[38;5;241;43m*\u001b[39;49m\u001b[38;5;241;43m*\u001b[39;49m\u001b[43mkwargs\u001b[49m\u001b[43m)\u001b[49m\n\u001b[0;32m    579\u001b[0m     call_args \u001b[38;5;241m=\u001b[39m get_call_args_applying_defaults(func, \u001b[38;5;241m*\u001b[39margs, \u001b[38;5;241m*\u001b[39m\u001b[38;5;241m*\u001b[39mkwargs)\n\u001b[0;32m    581\u001b[0m     unique_element_ids: \u001b[38;5;28mbool\u001b[39m \u001b[38;5;241m=\u001b[39m call_args\u001b[38;5;241m.\u001b[39mget(\u001b[38;5;124m\"\u001b[39m\u001b[38;5;124munique_element_ids\u001b[39m\u001b[38;5;124m\"\u001b[39m, \u001b[38;5;28;01mFalse\u001b[39;00m)\n",
            "File \u001b[1;32m~\\AppData\\Local\\Programs\\Python\\Python311\\Lib\\site-packages\\unstructured\\file_utils\\filetype.py:725\u001b[0m, in \u001b[0;36madd_filetype.<locals>.decorator.<locals>.wrapper\u001b[1;34m(*args, **kwargs)\u001b[0m\n\u001b[0;32m    723\u001b[0m \u001b[38;5;129m@functools\u001b[39m\u001b[38;5;241m.\u001b[39mwraps(func)\n\u001b[0;32m    724\u001b[0m \u001b[38;5;28;01mdef\u001b[39;00m \u001b[38;5;21mwrapper\u001b[39m(\u001b[38;5;241m*\u001b[39margs: _P\u001b[38;5;241m.\u001b[39margs, \u001b[38;5;241m*\u001b[39m\u001b[38;5;241m*\u001b[39mkwargs: _P\u001b[38;5;241m.\u001b[39mkwargs) \u001b[38;5;241m-\u001b[39m\u001b[38;5;241m>\u001b[39m \u001b[38;5;28mlist\u001b[39m[Element]:\n\u001b[1;32m--> 725\u001b[0m     elements \u001b[38;5;241m=\u001b[39m \u001b[43mfunc\u001b[49m\u001b[43m(\u001b[49m\u001b[38;5;241;43m*\u001b[39;49m\u001b[43margs\u001b[49m\u001b[43m,\u001b[49m\u001b[43m \u001b[49m\u001b[38;5;241;43m*\u001b[39;49m\u001b[38;5;241;43m*\u001b[39;49m\u001b[43mkwargs\u001b[49m\u001b[43m)\u001b[49m\n\u001b[0;32m    727\u001b[0m     \u001b[38;5;28;01mfor\u001b[39;00m element \u001b[38;5;129;01min\u001b[39;00m elements:\n\u001b[0;32m    728\u001b[0m         \u001b[38;5;66;03m# NOTE(robinson) - Attached files have already run through this logic\u001b[39;00m\n\u001b[0;32m    729\u001b[0m         \u001b[38;5;66;03m# in their own partitioning function\u001b[39;00m\n\u001b[0;32m    730\u001b[0m         \u001b[38;5;28;01mif\u001b[39;00m element\u001b[38;5;241m.\u001b[39mmetadata\u001b[38;5;241m.\u001b[39mattached_to_filename \u001b[38;5;129;01mis\u001b[39;00m \u001b[38;5;28;01mNone\u001b[39;00m:\n",
            "File \u001b[1;32m~\\AppData\\Local\\Programs\\Python\\Python311\\Lib\\site-packages\\unstructured\\file_utils\\filetype.py:683\u001b[0m, in \u001b[0;36madd_metadata.<locals>.wrapper\u001b[1;34m(*args, **kwargs)\u001b[0m\n\u001b[0;32m    681\u001b[0m \u001b[38;5;129m@functools\u001b[39m\u001b[38;5;241m.\u001b[39mwraps(func)\n\u001b[0;32m    682\u001b[0m \u001b[38;5;28;01mdef\u001b[39;00m \u001b[38;5;21mwrapper\u001b[39m(\u001b[38;5;241m*\u001b[39margs: _P\u001b[38;5;241m.\u001b[39margs, \u001b[38;5;241m*\u001b[39m\u001b[38;5;241m*\u001b[39mkwargs: _P\u001b[38;5;241m.\u001b[39mkwargs) \u001b[38;5;241m-\u001b[39m\u001b[38;5;241m>\u001b[39m \u001b[38;5;28mlist\u001b[39m[Element]:\n\u001b[1;32m--> 683\u001b[0m     elements \u001b[38;5;241m=\u001b[39m \u001b[43mfunc\u001b[49m\u001b[43m(\u001b[49m\u001b[38;5;241;43m*\u001b[39;49m\u001b[43margs\u001b[49m\u001b[43m,\u001b[49m\u001b[43m \u001b[49m\u001b[38;5;241;43m*\u001b[39;49m\u001b[38;5;241;43m*\u001b[39;49m\u001b[43mkwargs\u001b[49m\u001b[43m)\u001b[49m\n\u001b[0;32m    684\u001b[0m     call_args \u001b[38;5;241m=\u001b[39m get_call_args_applying_defaults(func, \u001b[38;5;241m*\u001b[39margs, \u001b[38;5;241m*\u001b[39m\u001b[38;5;241m*\u001b[39mkwargs)\n\u001b[0;32m    686\u001b[0m     \u001b[38;5;28;01mif\u001b[39;00m call_args\u001b[38;5;241m.\u001b[39mget(\u001b[38;5;124m\"\u001b[39m\u001b[38;5;124mmetadata_filename\u001b[39m\u001b[38;5;124m\"\u001b[39m):\n",
            "File \u001b[1;32m~\\AppData\\Local\\Programs\\Python\\Python311\\Lib\\site-packages\\unstructured\\chunking\\dispatch.py:74\u001b[0m, in \u001b[0;36madd_chunking_strategy.<locals>.wrapper\u001b[1;34m(*args, **kwargs)\u001b[0m\n\u001b[0;32m     71\u001b[0m \u001b[38;5;250m\u001b[39m\u001b[38;5;124;03m\"\"\"The decorated function is replaced with this one.\"\"\"\u001b[39;00m\n\u001b[0;32m     73\u001b[0m \u001b[38;5;66;03m# -- call the partitioning function to get the elements --\u001b[39;00m\n\u001b[1;32m---> 74\u001b[0m elements \u001b[38;5;241m=\u001b[39m \u001b[43mfunc\u001b[49m\u001b[43m(\u001b[49m\u001b[38;5;241;43m*\u001b[39;49m\u001b[43margs\u001b[49m\u001b[43m,\u001b[49m\u001b[43m \u001b[49m\u001b[38;5;241;43m*\u001b[39;49m\u001b[38;5;241;43m*\u001b[39;49m\u001b[43mkwargs\u001b[49m\u001b[43m)\u001b[49m\n\u001b[0;32m     76\u001b[0m \u001b[38;5;66;03m# -- look for a chunking-strategy argument --\u001b[39;00m\n\u001b[0;32m     77\u001b[0m call_args \u001b[38;5;241m=\u001b[39m get_call_args_applying_defaults(func, \u001b[38;5;241m*\u001b[39margs, \u001b[38;5;241m*\u001b[39m\u001b[38;5;241m*\u001b[39mkwargs)\n",
            "File \u001b[1;32m~\\AppData\\Local\\Programs\\Python\\Python311\\Lib\\site-packages\\unstructured\\partition\\pdf.py:209\u001b[0m, in \u001b[0;36mpartition_pdf\u001b[1;34m(filename, file, include_page_breaks, strategy, infer_table_structure, ocr_languages, languages, metadata_filename, metadata_last_modified, chunking_strategy, hi_res_model_name, extract_images_in_pdf, extract_image_block_types, extract_image_block_output_dir, extract_image_block_to_payload, starting_page_number, extract_forms, form_extraction_skip_tables, **kwargs)\u001b[0m\n\u001b[0;32m    205\u001b[0m exactly_one(filename\u001b[38;5;241m=\u001b[39mfilename, file\u001b[38;5;241m=\u001b[39mfile)\n\u001b[0;32m    207\u001b[0m languages \u001b[38;5;241m=\u001b[39m check_language_args(languages \u001b[38;5;129;01mor\u001b[39;00m [], ocr_languages)\n\u001b[1;32m--> 209\u001b[0m \u001b[38;5;28;01mreturn\u001b[39;00m \u001b[43mpartition_pdf_or_image\u001b[49m\u001b[43m(\u001b[49m\n\u001b[0;32m    210\u001b[0m \u001b[43m    \u001b[49m\u001b[43mfilename\u001b[49m\u001b[38;5;241;43m=\u001b[39;49m\u001b[43mfilename\u001b[49m\u001b[43m,\u001b[49m\n\u001b[0;32m    211\u001b[0m \u001b[43m    \u001b[49m\u001b[43mfile\u001b[49m\u001b[38;5;241;43m=\u001b[39;49m\u001b[43mfile\u001b[49m\u001b[43m,\u001b[49m\n\u001b[0;32m    212\u001b[0m \u001b[43m    \u001b[49m\u001b[43minclude_page_breaks\u001b[49m\u001b[38;5;241;43m=\u001b[39;49m\u001b[43minclude_page_breaks\u001b[49m\u001b[43m,\u001b[49m\n\u001b[0;32m    213\u001b[0m \u001b[43m    \u001b[49m\u001b[43mstrategy\u001b[49m\u001b[38;5;241;43m=\u001b[39;49m\u001b[43mstrategy\u001b[49m\u001b[43m,\u001b[49m\n\u001b[0;32m    214\u001b[0m \u001b[43m    \u001b[49m\u001b[43minfer_table_structure\u001b[49m\u001b[38;5;241;43m=\u001b[39;49m\u001b[43minfer_table_structure\u001b[49m\u001b[43m,\u001b[49m\n\u001b[0;32m    215\u001b[0m \u001b[43m    \u001b[49m\u001b[43mlanguages\u001b[49m\u001b[38;5;241;43m=\u001b[39;49m\u001b[43mlanguages\u001b[49m\u001b[43m,\u001b[49m\n\u001b[0;32m    216\u001b[0m \u001b[43m    \u001b[49m\u001b[43mmetadata_last_modified\u001b[49m\u001b[38;5;241;43m=\u001b[39;49m\u001b[43mmetadata_last_modified\u001b[49m\u001b[43m,\u001b[49m\n\u001b[0;32m    217\u001b[0m \u001b[43m    \u001b[49m\u001b[43mhi_res_model_name\u001b[49m\u001b[38;5;241;43m=\u001b[39;49m\u001b[43mhi_res_model_name\u001b[49m\u001b[43m,\u001b[49m\n\u001b[0;32m    218\u001b[0m \u001b[43m    \u001b[49m\u001b[43mextract_images_in_pdf\u001b[49m\u001b[38;5;241;43m=\u001b[39;49m\u001b[43mextract_images_in_pdf\u001b[49m\u001b[43m,\u001b[49m\n\u001b[0;32m    219\u001b[0m \u001b[43m    \u001b[49m\u001b[43mextract_image_block_types\u001b[49m\u001b[38;5;241;43m=\u001b[39;49m\u001b[43mextract_image_block_types\u001b[49m\u001b[43m,\u001b[49m\n\u001b[0;32m    220\u001b[0m \u001b[43m    \u001b[49m\u001b[43mextract_image_block_output_dir\u001b[49m\u001b[38;5;241;43m=\u001b[39;49m\u001b[43mextract_image_block_output_dir\u001b[49m\u001b[43m,\u001b[49m\n\u001b[0;32m    221\u001b[0m \u001b[43m    \u001b[49m\u001b[43mextract_image_block_to_payload\u001b[49m\u001b[38;5;241;43m=\u001b[39;49m\u001b[43mextract_image_block_to_payload\u001b[49m\u001b[43m,\u001b[49m\n\u001b[0;32m    222\u001b[0m \u001b[43m    \u001b[49m\u001b[43mstarting_page_number\u001b[49m\u001b[38;5;241;43m=\u001b[39;49m\u001b[43mstarting_page_number\u001b[49m\u001b[43m,\u001b[49m\n\u001b[0;32m    223\u001b[0m \u001b[43m    \u001b[49m\u001b[43mextract_forms\u001b[49m\u001b[38;5;241;43m=\u001b[39;49m\u001b[43mextract_forms\u001b[49m\u001b[43m,\u001b[49m\n\u001b[0;32m    224\u001b[0m \u001b[43m    \u001b[49m\u001b[43mform_extraction_skip_tables\u001b[49m\u001b[38;5;241;43m=\u001b[39;49m\u001b[43mform_extraction_skip_tables\u001b[49m\u001b[43m,\u001b[49m\n\u001b[0;32m    225\u001b[0m \u001b[43m    \u001b[49m\u001b[38;5;241;43m*\u001b[39;49m\u001b[38;5;241;43m*\u001b[39;49m\u001b[43mkwargs\u001b[49m\u001b[43m,\u001b[49m\n\u001b[0;32m    226\u001b[0m \u001b[43m\u001b[49m\u001b[43m)\u001b[49m\n",
            "File \u001b[1;32m~\\AppData\\Local\\Programs\\Python\\Python311\\Lib\\site-packages\\unstructured\\partition\\pdf.py:305\u001b[0m, in \u001b[0;36mpartition_pdf_or_image\u001b[1;34m(filename, file, is_image, include_page_breaks, strategy, infer_table_structure, languages, metadata_last_modified, hi_res_model_name, extract_images_in_pdf, extract_image_block_types, extract_image_block_output_dir, extract_image_block_to_payload, starting_page_number, extract_forms, form_extraction_skip_tables, **kwargs)\u001b[0m\n\u001b[0;32m    303\u001b[0m     \u001b[38;5;28;01mwith\u001b[39;00m warnings\u001b[38;5;241m.\u001b[39mcatch_warnings():\n\u001b[0;32m    304\u001b[0m         warnings\u001b[38;5;241m.\u001b[39msimplefilter(\u001b[38;5;124m\"\u001b[39m\u001b[38;5;124mignore\u001b[39m\u001b[38;5;124m\"\u001b[39m)\n\u001b[1;32m--> 305\u001b[0m         elements \u001b[38;5;241m=\u001b[39m \u001b[43m_partition_pdf_or_image_local\u001b[49m\u001b[43m(\u001b[49m\n\u001b[0;32m    306\u001b[0m \u001b[43m            \u001b[49m\u001b[43mfilename\u001b[49m\u001b[38;5;241;43m=\u001b[39;49m\u001b[43mfilename\u001b[49m\u001b[43m,\u001b[49m\n\u001b[0;32m    307\u001b[0m \u001b[43m            \u001b[49m\u001b[43mfile\u001b[49m\u001b[38;5;241;43m=\u001b[39;49m\u001b[43mspooled_to_bytes_io_if_needed\u001b[49m\u001b[43m(\u001b[49m\u001b[43mfile\u001b[49m\u001b[43m)\u001b[49m\u001b[43m,\u001b[49m\n\u001b[0;32m    308\u001b[0m \u001b[43m            \u001b[49m\u001b[43mis_image\u001b[49m\u001b[38;5;241;43m=\u001b[39;49m\u001b[43mis_image\u001b[49m\u001b[43m,\u001b[49m\n\u001b[0;32m    309\u001b[0m \u001b[43m            \u001b[49m\u001b[43minfer_table_structure\u001b[49m\u001b[38;5;241;43m=\u001b[39;49m\u001b[43minfer_table_structure\u001b[49m\u001b[43m,\u001b[49m\n\u001b[0;32m    310\u001b[0m \u001b[43m            \u001b[49m\u001b[43minclude_page_breaks\u001b[49m\u001b[38;5;241;43m=\u001b[39;49m\u001b[43minclude_page_breaks\u001b[49m\u001b[43m,\u001b[49m\n\u001b[0;32m    311\u001b[0m \u001b[43m            \u001b[49m\u001b[43mlanguages\u001b[49m\u001b[38;5;241;43m=\u001b[39;49m\u001b[43mlanguages\u001b[49m\u001b[43m,\u001b[49m\n\u001b[0;32m    312\u001b[0m \u001b[43m            \u001b[49m\u001b[43mocr_languages\u001b[49m\u001b[38;5;241;43m=\u001b[39;49m\u001b[43mocr_languages\u001b[49m\u001b[43m,\u001b[49m\n\u001b[0;32m    313\u001b[0m \u001b[43m            \u001b[49m\u001b[43mmetadata_last_modified\u001b[49m\u001b[38;5;241;43m=\u001b[39;49m\u001b[43mmetadata_last_modified\u001b[49m\u001b[43m \u001b[49m\u001b[38;5;129;43;01mor\u001b[39;49;00m\u001b[43m \u001b[49m\u001b[43mlast_modified\u001b[49m\u001b[43m,\u001b[49m\n\u001b[0;32m    314\u001b[0m \u001b[43m            \u001b[49m\u001b[43mhi_res_model_name\u001b[49m\u001b[38;5;241;43m=\u001b[39;49m\u001b[43mhi_res_model_name\u001b[49m\u001b[43m,\u001b[49m\n\u001b[0;32m    315\u001b[0m \u001b[43m            \u001b[49m\u001b[43mpdf_text_extractable\u001b[49m\u001b[38;5;241;43m=\u001b[39;49m\u001b[43mpdf_text_extractable\u001b[49m\u001b[43m,\u001b[49m\n\u001b[0;32m    316\u001b[0m \u001b[43m            \u001b[49m\u001b[43mextract_images_in_pdf\u001b[49m\u001b[38;5;241;43m=\u001b[39;49m\u001b[43mextract_images_in_pdf\u001b[49m\u001b[43m,\u001b[49m\n\u001b[0;32m    317\u001b[0m \u001b[43m            \u001b[49m\u001b[43mextract_image_block_types\u001b[49m\u001b[38;5;241;43m=\u001b[39;49m\u001b[43mextract_image_block_types\u001b[49m\u001b[43m,\u001b[49m\n\u001b[0;32m    318\u001b[0m \u001b[43m            \u001b[49m\u001b[43mextract_image_block_output_dir\u001b[49m\u001b[38;5;241;43m=\u001b[39;49m\u001b[43mextract_image_block_output_dir\u001b[49m\u001b[43m,\u001b[49m\n\u001b[0;32m    319\u001b[0m \u001b[43m            \u001b[49m\u001b[43mextract_image_block_to_payload\u001b[49m\u001b[38;5;241;43m=\u001b[39;49m\u001b[43mextract_image_block_to_payload\u001b[49m\u001b[43m,\u001b[49m\n\u001b[0;32m    320\u001b[0m \u001b[43m            \u001b[49m\u001b[43mstarting_page_number\u001b[49m\u001b[38;5;241;43m=\u001b[39;49m\u001b[43mstarting_page_number\u001b[49m\u001b[43m,\u001b[49m\n\u001b[0;32m    321\u001b[0m \u001b[43m            \u001b[49m\u001b[43mextract_forms\u001b[49m\u001b[38;5;241;43m=\u001b[39;49m\u001b[43mextract_forms\u001b[49m\u001b[43m,\u001b[49m\n\u001b[0;32m    322\u001b[0m \u001b[43m            \u001b[49m\u001b[43mform_extraction_skip_tables\u001b[49m\u001b[38;5;241;43m=\u001b[39;49m\u001b[43mform_extraction_skip_tables\u001b[49m\u001b[43m,\u001b[49m\n\u001b[0;32m    323\u001b[0m \u001b[43m            \u001b[49m\u001b[38;5;241;43m*\u001b[39;49m\u001b[38;5;241;43m*\u001b[39;49m\u001b[43mkwargs\u001b[49m\u001b[43m,\u001b[49m\n\u001b[0;32m    324\u001b[0m \u001b[43m        \u001b[49m\u001b[43m)\u001b[49m\n\u001b[0;32m    325\u001b[0m         out_elements \u001b[38;5;241m=\u001b[39m _process_uncategorized_text_elements(elements)\n\u001b[0;32m    327\u001b[0m \u001b[38;5;28;01melif\u001b[39;00m strategy \u001b[38;5;241m==\u001b[39m PartitionStrategy\u001b[38;5;241m.\u001b[39mFAST:\n",
            "File \u001b[1;32m~\\AppData\\Local\\Programs\\Python\\Python311\\Lib\\site-packages\\unstructured\\utils.py:216\u001b[0m, in \u001b[0;36mrequires_dependencies.<locals>.decorator.<locals>.wrapper\u001b[1;34m(*args, **kwargs)\u001b[0m\n\u001b[0;32m    213\u001b[0m \u001b[38;5;129m@wraps\u001b[39m(func)\n\u001b[0;32m    214\u001b[0m \u001b[38;5;28;01mdef\u001b[39;00m \u001b[38;5;21mwrapper\u001b[39m(\u001b[38;5;241m*\u001b[39margs: _P\u001b[38;5;241m.\u001b[39margs, \u001b[38;5;241m*\u001b[39m\u001b[38;5;241m*\u001b[39mkwargs: _P\u001b[38;5;241m.\u001b[39mkwargs):\n\u001b[0;32m    215\u001b[0m     run_check()\n\u001b[1;32m--> 216\u001b[0m     \u001b[38;5;28;01mreturn\u001b[39;00m \u001b[43mfunc\u001b[49m\u001b[43m(\u001b[49m\u001b[38;5;241;43m*\u001b[39;49m\u001b[43margs\u001b[49m\u001b[43m,\u001b[49m\u001b[43m \u001b[49m\u001b[38;5;241;43m*\u001b[39;49m\u001b[38;5;241;43m*\u001b[39;49m\u001b[43mkwargs\u001b[49m\u001b[43m)\u001b[49m\n",
            "File \u001b[1;32m~\\AppData\\Local\\Programs\\Python\\Python311\\Lib\\site-packages\\unstructured\\partition\\pdf.py:734\u001b[0m, in \u001b[0;36m_partition_pdf_or_image_local\u001b[1;34m(filename, file, is_image, infer_table_structure, include_page_breaks, languages, ocr_languages, ocr_mode, model_name, hi_res_model_name, pdf_image_dpi, metadata_last_modified, pdf_text_extractable, extract_images_in_pdf, extract_image_block_types, extract_image_block_output_dir, extract_image_block_to_payload, analysis, analyzed_image_output_dir_path, starting_page_number, extract_forms, form_extraction_skip_tables, pdf_hi_res_max_pages, **kwargs)\u001b[0m\n\u001b[0;32m    731\u001b[0m     \u001b[38;5;28;01mif\u001b[39;00m extract_images_in_pdf \u001b[38;5;129;01mand\u001b[39;00m el_type \u001b[38;5;241m==\u001b[39m ElementType\u001b[38;5;241m.\u001b[39mIMAGE:\n\u001b[0;32m    732\u001b[0m         \u001b[38;5;28;01mcontinue\u001b[39;00m\n\u001b[1;32m--> 734\u001b[0m     \u001b[43msave_elements\u001b[49m\u001b[43m(\u001b[49m\n\u001b[0;32m    735\u001b[0m \u001b[43m        \u001b[49m\u001b[43melements\u001b[49m\u001b[38;5;241;43m=\u001b[39;49m\u001b[43melements\u001b[49m\u001b[43m,\u001b[49m\n\u001b[0;32m    736\u001b[0m \u001b[43m        \u001b[49m\u001b[43mstarting_page_number\u001b[49m\u001b[38;5;241;43m=\u001b[39;49m\u001b[43mstarting_page_number\u001b[49m\u001b[43m,\u001b[49m\n\u001b[0;32m    737\u001b[0m \u001b[43m        \u001b[49m\u001b[43melement_category_to_save\u001b[49m\u001b[38;5;241;43m=\u001b[39;49m\u001b[43mel_type\u001b[49m\u001b[43m,\u001b[49m\n\u001b[0;32m    738\u001b[0m \u001b[43m        \u001b[49m\u001b[43mfilename\u001b[49m\u001b[38;5;241;43m=\u001b[39;49m\u001b[43mfilename\u001b[49m\u001b[43m,\u001b[49m\n\u001b[0;32m    739\u001b[0m \u001b[43m        \u001b[49m\u001b[43mfile\u001b[49m\u001b[38;5;241;43m=\u001b[39;49m\u001b[43mfile\u001b[49m\u001b[43m,\u001b[49m\n\u001b[0;32m    740\u001b[0m \u001b[43m        \u001b[49m\u001b[43mis_image\u001b[49m\u001b[38;5;241;43m=\u001b[39;49m\u001b[43mis_image\u001b[49m\u001b[43m,\u001b[49m\n\u001b[0;32m    741\u001b[0m \u001b[43m        \u001b[49m\u001b[43mpdf_image_dpi\u001b[49m\u001b[38;5;241;43m=\u001b[39;49m\u001b[43mpdf_image_dpi\u001b[49m\u001b[43m,\u001b[49m\n\u001b[0;32m    742\u001b[0m \u001b[43m        \u001b[49m\u001b[43mextract_image_block_to_payload\u001b[49m\u001b[38;5;241;43m=\u001b[39;49m\u001b[43mextract_image_block_to_payload\u001b[49m\u001b[43m,\u001b[49m\n\u001b[0;32m    743\u001b[0m \u001b[43m        \u001b[49m\u001b[43moutput_dir_path\u001b[49m\u001b[38;5;241;43m=\u001b[39;49m\u001b[43mextract_image_block_output_dir\u001b[49m\u001b[43m,\u001b[49m\n\u001b[0;32m    744\u001b[0m \u001b[43m    \u001b[49m\u001b[43m)\u001b[49m\n\u001b[0;32m    746\u001b[0m out_elements \u001b[38;5;241m=\u001b[39m []\n\u001b[0;32m    747\u001b[0m \u001b[38;5;28;01mfor\u001b[39;00m el \u001b[38;5;129;01min\u001b[39;00m elements:\n",
            "File \u001b[1;32m~\\AppData\\Local\\Programs\\Python\\Python311\\Lib\\site-packages\\unstructured\\partition\\pdf_image\\pdf_image_utils.py:164\u001b[0m, in \u001b[0;36msave_elements\u001b[1;34m(elements, starting_page_number, element_category_to_save, pdf_image_dpi, filename, file, is_image, extract_image_block_to_payload, output_dir_path)\u001b[0m\n\u001b[0;32m    162\u001b[0m         image_paths \u001b[38;5;241m=\u001b[39m [tmp_file_path]\n\u001b[0;32m    163\u001b[0m \u001b[38;5;28;01melse\u001b[39;00m:\n\u001b[1;32m--> 164\u001b[0m     _image_paths \u001b[38;5;241m=\u001b[39m \u001b[43mconvert_pdf_to_image\u001b[49m\u001b[43m(\u001b[49m\n\u001b[0;32m    165\u001b[0m \u001b[43m        \u001b[49m\u001b[43mfilename\u001b[49m\u001b[43m,\u001b[49m\n\u001b[0;32m    166\u001b[0m \u001b[43m        \u001b[49m\u001b[43mfile\u001b[49m\u001b[43m,\u001b[49m\n\u001b[0;32m    167\u001b[0m \u001b[43m        \u001b[49m\u001b[43mpdf_image_dpi\u001b[49m\u001b[43m,\u001b[49m\n\u001b[0;32m    168\u001b[0m \u001b[43m        \u001b[49m\u001b[43moutput_folder\u001b[49m\u001b[38;5;241;43m=\u001b[39;49m\u001b[43mtemp_dir\u001b[49m\u001b[43m,\u001b[49m\n\u001b[0;32m    169\u001b[0m \u001b[43m        \u001b[49m\u001b[43mpath_only\u001b[49m\u001b[38;5;241;43m=\u001b[39;49m\u001b[38;5;28;43;01mTrue\u001b[39;49;00m\u001b[43m,\u001b[49m\n\u001b[0;32m    170\u001b[0m \u001b[43m    \u001b[49m\u001b[43m)\u001b[49m\n\u001b[0;32m    171\u001b[0m     image_paths \u001b[38;5;241m=\u001b[39m cast(List[\u001b[38;5;28mstr\u001b[39m], _image_paths)\n\u001b[0;32m    173\u001b[0m figure_number \u001b[38;5;241m=\u001b[39m \u001b[38;5;241m0\u001b[39m\n",
            "File \u001b[1;32m~\\AppData\\Local\\Programs\\Python\\Python311\\Lib\\site-packages\\unstructured\\partition\\pdf_image\\pdf_image_utils.py:76\u001b[0m, in \u001b[0;36mconvert_pdf_to_image\u001b[1;34m(filename, file, dpi, output_folder, path_only)\u001b[0m\n\u001b[0;32m     69\u001b[0m     images \u001b[38;5;241m=\u001b[39m pdf2image\u001b[38;5;241m.\u001b[39mconvert_from_bytes(\n\u001b[0;32m     70\u001b[0m         f_bytes,\n\u001b[0;32m     71\u001b[0m         dpi\u001b[38;5;241m=\u001b[39mdpi,\n\u001b[0;32m     72\u001b[0m         output_folder\u001b[38;5;241m=\u001b[39moutput_folder,\n\u001b[0;32m     73\u001b[0m         paths_only\u001b[38;5;241m=\u001b[39mpath_only,\n\u001b[0;32m     74\u001b[0m     )\n\u001b[0;32m     75\u001b[0m \u001b[38;5;28;01melse\u001b[39;00m:\n\u001b[1;32m---> 76\u001b[0m     images \u001b[38;5;241m=\u001b[39m \u001b[43mpdf2image\u001b[49m\u001b[38;5;241;43m.\u001b[39;49m\u001b[43mconvert_from_path\u001b[49m\u001b[43m(\u001b[49m\n\u001b[0;32m     77\u001b[0m \u001b[43m        \u001b[49m\u001b[43mfilename\u001b[49m\u001b[43m,\u001b[49m\n\u001b[0;32m     78\u001b[0m \u001b[43m        \u001b[49m\u001b[43mdpi\u001b[49m\u001b[38;5;241;43m=\u001b[39;49m\u001b[43mdpi\u001b[49m\u001b[43m,\u001b[49m\n\u001b[0;32m     79\u001b[0m \u001b[43m        \u001b[49m\u001b[43moutput_folder\u001b[49m\u001b[38;5;241;43m=\u001b[39;49m\u001b[43moutput_folder\u001b[49m\u001b[43m,\u001b[49m\n\u001b[0;32m     80\u001b[0m \u001b[43m        \u001b[49m\u001b[43mpaths_only\u001b[49m\u001b[38;5;241;43m=\u001b[39;49m\u001b[43mpath_only\u001b[49m\u001b[43m,\u001b[49m\n\u001b[0;32m     81\u001b[0m \u001b[43m    \u001b[49m\u001b[43m)\u001b[49m\n\u001b[0;32m     83\u001b[0m \u001b[38;5;28;01mreturn\u001b[39;00m images\n",
            "File \u001b[1;32m~\\AppData\\Local\\Programs\\Python\\Python311\\Lib\\site-packages\\pdf2image\\pdf2image.py:251\u001b[0m, in \u001b[0;36mconvert_from_path\u001b[1;34m(pdf_path, dpi, output_folder, first_page, last_page, fmt, jpegopt, thread_count, userpw, ownerpw, use_cropbox, strict, transparent, single_file, output_file, poppler_path, grayscale, size, paths_only, use_pdftocairo, timeout, hide_annotations)\u001b[0m\n\u001b[0;32m    249\u001b[0m \u001b[38;5;28;01mfor\u001b[39;00m uid, proc \u001b[38;5;129;01min\u001b[39;00m processes:\n\u001b[0;32m    250\u001b[0m     \u001b[38;5;28;01mtry\u001b[39;00m:\n\u001b[1;32m--> 251\u001b[0m         data, err \u001b[38;5;241m=\u001b[39m \u001b[43mproc\u001b[49m\u001b[38;5;241;43m.\u001b[39;49m\u001b[43mcommunicate\u001b[49m\u001b[43m(\u001b[49m\u001b[43mtimeout\u001b[49m\u001b[38;5;241;43m=\u001b[39;49m\u001b[43mtimeout\u001b[49m\u001b[43m)\u001b[49m\n\u001b[0;32m    252\u001b[0m     \u001b[38;5;28;01mexcept\u001b[39;00m TimeoutExpired:\n\u001b[0;32m    253\u001b[0m         proc\u001b[38;5;241m.\u001b[39mkill()\n",
            "File \u001b[1;32m~\\AppData\\Local\\Programs\\Python\\Python311\\Lib\\subprocess.py:1209\u001b[0m, in \u001b[0;36mPopen.communicate\u001b[1;34m(self, input, timeout)\u001b[0m\n\u001b[0;32m   1206\u001b[0m     endtime \u001b[38;5;241m=\u001b[39m \u001b[38;5;28;01mNone\u001b[39;00m\n\u001b[0;32m   1208\u001b[0m \u001b[38;5;28;01mtry\u001b[39;00m:\n\u001b[1;32m-> 1209\u001b[0m     stdout, stderr \u001b[38;5;241m=\u001b[39m \u001b[38;5;28;43mself\u001b[39;49m\u001b[38;5;241;43m.\u001b[39;49m\u001b[43m_communicate\u001b[49m\u001b[43m(\u001b[49m\u001b[38;5;28;43minput\u001b[39;49m\u001b[43m,\u001b[49m\u001b[43m \u001b[49m\u001b[43mendtime\u001b[49m\u001b[43m,\u001b[49m\u001b[43m \u001b[49m\u001b[43mtimeout\u001b[49m\u001b[43m)\u001b[49m\n\u001b[0;32m   1210\u001b[0m \u001b[38;5;28;01mexcept\u001b[39;00m \u001b[38;5;167;01mKeyboardInterrupt\u001b[39;00m:\n\u001b[0;32m   1211\u001b[0m     \u001b[38;5;66;03m# https://bugs.python.org/issue25942\u001b[39;00m\n\u001b[0;32m   1212\u001b[0m     \u001b[38;5;66;03m# See the detailed comment in .wait().\u001b[39;00m\n\u001b[0;32m   1213\u001b[0m     \u001b[38;5;28;01mif\u001b[39;00m timeout \u001b[38;5;129;01mis\u001b[39;00m \u001b[38;5;129;01mnot\u001b[39;00m \u001b[38;5;28;01mNone\u001b[39;00m:\n",
            "File \u001b[1;32m~\\AppData\\Local\\Programs\\Python\\Python311\\Lib\\subprocess.py:1626\u001b[0m, in \u001b[0;36mPopen._communicate\u001b[1;34m(self, input, endtime, orig_timeout)\u001b[0m\n\u001b[0;32m   1622\u001b[0m \u001b[38;5;66;03m# Wait for the reader threads, or time out.  If we time out, the\u001b[39;00m\n\u001b[0;32m   1623\u001b[0m \u001b[38;5;66;03m# threads remain reading and the fds left open in case the user\u001b[39;00m\n\u001b[0;32m   1624\u001b[0m \u001b[38;5;66;03m# calls communicate again.\u001b[39;00m\n\u001b[0;32m   1625\u001b[0m \u001b[38;5;28;01mif\u001b[39;00m \u001b[38;5;28mself\u001b[39m\u001b[38;5;241m.\u001b[39mstdout \u001b[38;5;129;01mis\u001b[39;00m \u001b[38;5;129;01mnot\u001b[39;00m \u001b[38;5;28;01mNone\u001b[39;00m:\n\u001b[1;32m-> 1626\u001b[0m     \u001b[38;5;28;43mself\u001b[39;49m\u001b[38;5;241;43m.\u001b[39;49m\u001b[43mstdout_thread\u001b[49m\u001b[38;5;241;43m.\u001b[39;49m\u001b[43mjoin\u001b[49m\u001b[43m(\u001b[49m\u001b[38;5;28;43mself\u001b[39;49m\u001b[38;5;241;43m.\u001b[39;49m\u001b[43m_remaining_time\u001b[49m\u001b[43m(\u001b[49m\u001b[43mendtime\u001b[49m\u001b[43m)\u001b[49m\u001b[43m)\u001b[49m\n\u001b[0;32m   1627\u001b[0m     \u001b[38;5;28;01mif\u001b[39;00m \u001b[38;5;28mself\u001b[39m\u001b[38;5;241m.\u001b[39mstdout_thread\u001b[38;5;241m.\u001b[39mis_alive():\n\u001b[0;32m   1628\u001b[0m         \u001b[38;5;28;01mraise\u001b[39;00m TimeoutExpired(\u001b[38;5;28mself\u001b[39m\u001b[38;5;241m.\u001b[39margs, orig_timeout)\n",
            "File \u001b[1;32m~\\AppData\\Local\\Programs\\Python\\Python311\\Lib\\threading.py:1112\u001b[0m, in \u001b[0;36mThread.join\u001b[1;34m(self, timeout)\u001b[0m\n\u001b[0;32m   1109\u001b[0m     \u001b[38;5;28;01mraise\u001b[39;00m \u001b[38;5;167;01mRuntimeError\u001b[39;00m(\u001b[38;5;124m\"\u001b[39m\u001b[38;5;124mcannot join current thread\u001b[39m\u001b[38;5;124m\"\u001b[39m)\n\u001b[0;32m   1111\u001b[0m \u001b[38;5;28;01mif\u001b[39;00m timeout \u001b[38;5;129;01mis\u001b[39;00m \u001b[38;5;28;01mNone\u001b[39;00m:\n\u001b[1;32m-> 1112\u001b[0m     \u001b[38;5;28;43mself\u001b[39;49m\u001b[38;5;241;43m.\u001b[39;49m\u001b[43m_wait_for_tstate_lock\u001b[49m\u001b[43m(\u001b[49m\u001b[43m)\u001b[49m\n\u001b[0;32m   1113\u001b[0m \u001b[38;5;28;01melse\u001b[39;00m:\n\u001b[0;32m   1114\u001b[0m     \u001b[38;5;66;03m# the behavior of a negative timeout isn't documented, but\u001b[39;00m\n\u001b[0;32m   1115\u001b[0m     \u001b[38;5;66;03m# historically .join(timeout=x) for x<0 has acted as if timeout=0\u001b[39;00m\n\u001b[0;32m   1116\u001b[0m     \u001b[38;5;28mself\u001b[39m\u001b[38;5;241m.\u001b[39m_wait_for_tstate_lock(timeout\u001b[38;5;241m=\u001b[39m\u001b[38;5;28mmax\u001b[39m(timeout, \u001b[38;5;241m0\u001b[39m))\n",
            "File \u001b[1;32m~\\AppData\\Local\\Programs\\Python\\Python311\\Lib\\threading.py:1132\u001b[0m, in \u001b[0;36mThread._wait_for_tstate_lock\u001b[1;34m(self, block, timeout)\u001b[0m\n\u001b[0;32m   1129\u001b[0m     \u001b[38;5;28;01mreturn\u001b[39;00m\n\u001b[0;32m   1131\u001b[0m \u001b[38;5;28;01mtry\u001b[39;00m:\n\u001b[1;32m-> 1132\u001b[0m     \u001b[38;5;28;01mif\u001b[39;00m \u001b[43mlock\u001b[49m\u001b[38;5;241;43m.\u001b[39;49m\u001b[43macquire\u001b[49m\u001b[43m(\u001b[49m\u001b[43mblock\u001b[49m\u001b[43m,\u001b[49m\u001b[43m \u001b[49m\u001b[43mtimeout\u001b[49m\u001b[43m)\u001b[49m:\n\u001b[0;32m   1133\u001b[0m         lock\u001b[38;5;241m.\u001b[39mrelease()\n\u001b[0;32m   1134\u001b[0m         \u001b[38;5;28mself\u001b[39m\u001b[38;5;241m.\u001b[39m_stop()\n",
            "\u001b[1;31mKeyboardInterrupt\u001b[0m: "
          ]
        }
      ],
      "source": [
        "# here we are extracting images and tables in jpeg format into my local drive\n",
        "elements= partition_pdf(\n",
        "    filename=file_path,                  # mandatory\n",
        "    strategy=\"hi_res\",                                     # mandatory to use ``hi_res`` strategy\n",
        "    extract_images_in_pdf=True,                            # mandatory to set as ``True``\n",
        "    extract_image_block_types=[\"Image\", \"Table\"],          # optional\n",
        "    extract_image_block_to_payload=False,                  # optional\n",
        "    extract_image_block_output_dir=output_dir\n",
        ")"
      ]
    },
    {
      "cell_type": "code",
      "execution_count": null,
      "id": "c3aa3f45-96e1-4ef9-bbb3-f9d51cb81639",
      "metadata": {
        "scrolled": true,
        "id": "c3aa3f45-96e1-4ef9-bbb3-f9d51cb81639"
      },
      "outputs": [],
      "source": [
        "# Categorizing all the extracted elements and storing them in list\n",
        "Header =[]\n",
        "Title=[]\n",
        "Footer=[]\n",
        "Text=[]\n",
        "List_item=[]\n",
        "Narrative_text =[]\n",
        "\n",
        "for element in elements:\n",
        "    if \"unstructured.documents.elements.Header\" in str(type(element)):\n",
        "        Header.append(str(element))\n",
        "    elif \"unstructured.documents.elements.Footer\" in str(type(element)):\n",
        "        Footer.append(str(element))\n",
        "    elif \"unstructured.documents.elements.Title\" in str(type(element)):\n",
        "        Title.append(str(element))\n",
        "    elif \"unstructured.documents.elements.NarrativeText\" in str(type(element)):\n",
        "        Narrative_text.append(str(element))\n",
        "    elif \"unstructured.documents.elements.Text\" in str(type(element)):\n",
        "        Text.append(str(element))\n",
        "    elif \"unstructured.documents.elements.ListItem\" in str(type(element)):\n",
        "        List_item.append(str(element))\n",
        "\n",
        "List_item = ' '.join(List_item)\n",
        "Narrative_text =' '. join(Narrative_text)"
      ]
    },
    {
      "cell_type": "code",
      "execution_count": null,
      "id": "e51e9288-46b7-4a1e-8112-02bf33a69abe",
      "metadata": {
        "scrolled": true,
        "id": "e51e9288-46b7-4a1e-8112-02bf33a69abe"
      },
      "outputs": [],
      "source": [
        "#Joining all the text + narrative_text + list_items"
      ]
    },
    {
      "cell_type": "code",
      "execution_count": null,
      "id": "79ae25a7-2758-4b92-a6c2-c4c565d2afc3",
      "metadata": {
        "id": "79ae25a7-2758-4b92-a6c2-c4c565d2afc3"
      },
      "outputs": [],
      "source": [
        "Text_doc = Narrative_text + List_item"
      ]
    },
    {
      "cell_type": "code",
      "execution_count": null,
      "id": "3b317411-6060-4d74-ae9b-ef0acc081114",
      "metadata": {
        "id": "3b317411-6060-4d74-ae9b-ef0acc081114"
      },
      "outputs": [],
      "source": [
        "# for images, raw image is already stored in local drive. Here we are extracting machine readable image info for future purpose\n",
        "images_text=[]\n",
        "for ele in elements:\n",
        "    if \"<class 'unstructured.documents.elements.Image'>\" == str(type(ele)):\n",
        "        images_text.append(str(ele))"
      ]
    },
    {
      "cell_type": "code",
      "execution_count": null,
      "id": "a58cb3f7-8fc4-4827-897b-80c35687c7d5",
      "metadata": {
        "id": "a58cb3f7-8fc4-4827-897b-80c35687c7d5",
        "outputId": "50c875b7-3e08-4dd8-e25b-c6d51ba61b9e"
      },
      "outputs": [
        {
          "data": {
            "text/plain": [
              "'Cluster-GCN with (10) + (9)  84.9  96.0  97.1  97.6  97.3  43.9  Cluster-GCN with (10) + (11), λ = 1  89.6  97.5  98.2  98.3  98.0  97.4  (a) PPI (2 layers)  (b) PPI (3 layers)  (d) Reddit (2 layers)  (e) Reddit (3 layers)  (g) Amazon (2 layers)  (h) Amazon (3 layers) '"
            ]
          },
          "execution_count": 9,
          "metadata": {},
          "output_type": "execute_result"
        }
      ],
      "source": [
        "# sample  image output\n",
        "images_text[5]"
      ]
    },
    {
      "cell_type": "code",
      "execution_count": null,
      "id": "db41633d-1194-4165-89d6-42e68c50201a",
      "metadata": {
        "id": "db41633d-1194-4165-89d6-42e68c50201a"
      },
      "outputs": [],
      "source": [
        "# for images, raw image is already stored in local drive this is machine readable table info\n",
        "tables_text=[]\n",
        "for ele in elements:\n",
        "    if \"<class 'unstructured.documents.elements.Table'>\" == str(type(ele)):\n",
        "        tables_text.append(str(ele))"
      ]
    },
    {
      "cell_type": "code",
      "execution_count": null,
      "id": "8b677f63-2b19-41ec-a434-2485475bb268",
      "metadata": {
        "id": "8b677f63-2b19-41ec-a434-2485475bb268",
        "outputId": "44219d37-5dc7-4821-9760-3eafb175bda1"
      },
      "outputs": [
        {
          "data": {
            "text/plain": [
              "'FastGCN [1] N/A 93.7 GraphSAGE [5] 61.2 95.4 VR-GCN [2] 97.8 96.3 GaAN [16] 98.71 96.36 GAT [14] 97.3 N/A GeniePath [10] 98.5 N/A Cluster-GCN 99.36 96.60'"
            ]
          },
          "execution_count": 11,
          "metadata": {},
          "output_type": "execute_result"
        }
      ],
      "source": [
        "# sample table output\n",
        "tables_text[7]"
      ]
    },
    {
      "cell_type": "code",
      "execution_count": null,
      "id": "0f73f03a-f6a5-4079-bd4b-0216700a0430",
      "metadata": {
        "id": "0f73f03a-f6a5-4079-bd4b-0216700a0430"
      },
      "outputs": [],
      "source": [
        "# We successfully extracted all the figures and tables in image format and text format(machine readable).\n",
        "# We also stored text,header,title, and ListItem\n",
        "# Now we will generate a summary of this IMAGES using gpt4V"
      ]
    },
    {
      "cell_type": "code",
      "execution_count": null,
      "id": "65e96440-8595-4279-b176-fbe4abc52f2c",
      "metadata": {
        "id": "65e96440-8595-4279-b176-fbe4abc52f2c"
      },
      "outputs": [],
      "source": [
        "# Installing requiered libraries to obtain gpt via langchain\n",
        "# langchain-core defines the base abstractions for the LangChain ecosystem.\n",
        "# The interfaces for core components like chat models, LLMs, vector stores, retrievers, and more are defined here."
      ]
    },
    {
      "cell_type": "code",
      "execution_count": null,
      "id": "9528cf39-910f-4862-abb2-2f414e818bcc",
      "metadata": {
        "id": "9528cf39-910f-4862-abb2-2f414e818bcc"
      },
      "outputs": [],
      "source": [
        "# I am passing direct images to GPT4V to get summary of it\n",
        "# for ease i am storing all my images in my  local dirve and text in word document"
      ]
    },
    {
      "cell_type": "code",
      "execution_count": null,
      "id": "6d3963d2-5b41-4a2a-b32d-10d2a6eff51d",
      "metadata": {
        "id": "6d3963d2-5b41-4a2a-b32d-10d2a6eff51d"
      },
      "outputs": [],
      "source": [
        "from langchain_core.output_parsers import StrOutputParser\n",
        "from langchain_core.prompts import ChatPromptTemplate\n",
        "from langchain_openai import ChatOpenAI"
      ]
    },
    {
      "cell_type": "code",
      "execution_count": null,
      "id": "876a1d43-11f0-499c-bf5e-35e0bda75caa",
      "metadata": {
        "id": "876a1d43-11f0-499c-bf5e-35e0bda75caa",
        "outputId": "897dc0f8-ac1c-4aaf-bd0e-307fc8d5eb07"
      },
      "outputs": [
        {
          "name": "stdin",
          "output_type": "stream",
          "text": [
            "enter api key ········\n"
          ]
        }
      ],
      "source": [
        "import getpass\n",
        "import os\n",
        "os.environ[\"OPENAI_API_KEY\"] = getpass.getpass(\"enter api key\")\n"
      ]
    },
    {
      "cell_type": "code",
      "execution_count": null,
      "id": "5a8f4669-53d9-455b-a3ea-76141023a458",
      "metadata": {
        "id": "5a8f4669-53d9-455b-a3ea-76141023a458"
      },
      "outputs": [],
      "source": [
        "# As images are stored in my local dirve I extracted there paths and stores in paths list."
      ]
    },
    {
      "cell_type": "code",
      "execution_count": null,
      "id": "8c4b1cbc-672e-4fe0-af7c-a807f59f621f",
      "metadata": {
        "id": "8c4b1cbc-672e-4fe0-af7c-a807f59f621f"
      },
      "outputs": [],
      "source": [
        "import base64\n",
        "import os\n",
        "\n",
        "from langchain_core.messages import HumanMessage"
      ]
    },
    {
      "cell_type": "code",
      "execution_count": null,
      "id": "ee03c88a-3312-493b-90f7-4ed246e38aee",
      "metadata": {
        "id": "ee03c88a-3312-493b-90f7-4ed246e38aee"
      },
      "outputs": [],
      "source": [
        "# to get summary of images in chatgpt4v, we need to convert each image into base64 format and pass it to gpt"
      ]
    },
    {
      "cell_type": "code",
      "execution_count": null,
      "id": "d1824607-71c0-4de4-8cc0-3b6dc8ef3d4b",
      "metadata": {
        "id": "d1824607-71c0-4de4-8cc0-3b6dc8ef3d4b"
      },
      "outputs": [],
      "source": [
        "prompt_text=\"\"\"Analyze the image provided.\n",
        "Summarize key insights, highlighting any significant patterns, trends, or relationships between the data in the table and visual content in the image.\n",
        "Focus on critical details that reveal important information, and provide a clear, concise summary \"\"\""
      ]
    },
    {
      "cell_type": "code",
      "execution_count": null,
      "id": "0e76a0e4-8c97-401d-a652-ce89defbea0e",
      "metadata": {
        "id": "0e76a0e4-8c97-401d-a652-ce89defbea0e"
      },
      "outputs": [],
      "source": [
        "def encode_image(image_path):\n",
        "    \"\"\"Getting the base64 string\"\"\"\n",
        "    with open(image_path, \"rb\") as image_file:\n",
        "        return base64.b64encode(image_file.read()).decode(\"utf-8\")"
      ]
    },
    {
      "cell_type": "code",
      "execution_count": null,
      "id": "c9694be8-5828-4c7c-af43-2a8cfca362dd",
      "metadata": {
        "id": "c9694be8-5828-4c7c-af43-2a8cfca362dd"
      },
      "outputs": [],
      "source": [
        "def image_summarize(img_base64, prompt):\n",
        "    \"\"\"Make image summary\"\"\"\n",
        "    chat = ChatOpenAI(model=\"gpt-4o-mini\", max_tokens=1024)\n",
        "\n",
        "    msg = chat.invoke(\n",
        "        [\n",
        "            HumanMessage(\n",
        "                content=[\n",
        "                    {\"type\": \"text\", \"text\": prompt},\n",
        "                    {\n",
        "                        \"type\": \"image_url\",\n",
        "                        \"image_url\": {\"url\": f\"data:image/jpeg;base64,{img_base64}\"},\n",
        "                    },\n",
        "                ]\n",
        "            )\n",
        "        ]\n",
        "    )\n",
        "    return msg.content"
      ]
    },
    {
      "cell_type": "code",
      "execution_count": null,
      "id": "718735ed-b884-45ca-bf4e-502b5de227be",
      "metadata": {
        "id": "718735ed-b884-45ca-bf4e-502b5de227be"
      },
      "outputs": [],
      "source": [
        "def generate_img_summaries(path):\n",
        "    \"\"\"\n",
        "    Generate summaries and base64 encoded strings for images\n",
        "    path: Path to list of .jpg files extracted by Unstructured\n",
        "    \"\"\"\n",
        "\n",
        "    # Store base64 encoded images\n",
        "    img_base64_list = []\n",
        "\n",
        "    # Store image summaries\n",
        "    image_summaries = []\n",
        "\n",
        "    # Prompt\n",
        "    prompt = \"\"\"You are an assistant tasked with summarizing images for retrieval. \\\n",
        "    These summaries will be embedded and used to retrieve the raw image. \\\n",
        "    Give a concise summary of the image that is well optimized for retrieval.\"\"\"\n",
        "\n",
        "    # Apply to images\n",
        "    for img_file in sorted(os.listdir(path)):\n",
        "        if img_file.endswith(\".jpg\"):\n",
        "            img_path = os.path.join(path, img_file)\n",
        "            base64_image = encode_image(img_path)\n",
        "            img_base64_list.append(base64_image) # for reference we are storing the base64_iamge\n",
        "            image_summaries.append(image_summarize(base64_image, prompt))\n",
        "\n",
        "    return img_base64_list, image_summaries\n",
        "\n"
      ]
    },
    {
      "cell_type": "code",
      "execution_count": null,
      "id": "f1e149b9-a83f-49a1-8d71-9ef06df16137",
      "metadata": {
        "id": "f1e149b9-a83f-49a1-8d71-9ef06df16137"
      },
      "outputs": [],
      "source": [
        "fpath= r\"C:\\Text_Summarization\\sample_images\"\n",
        "img_base64_list, image_summaries = generate_img_summaries(fpath)"
      ]
    },
    {
      "cell_type": "code",
      "execution_count": null,
      "id": "33063dd1-fda6-477b-9856-9e002e47011c",
      "metadata": {
        "id": "33063dd1-fda6-477b-9856-9e002e47011c",
        "outputId": "d0889ee4-5d5b-4d61-945e-1823d0728f4d"
      },
      "outputs": [
        {
          "name": "stdout",
          "output_type": "stream",
          "text": [
            "24\n"
          ]
        }
      ],
      "source": [
        "print(len(image_summaries))"
      ]
    },
    {
      "cell_type": "code",
      "execution_count": null,
      "id": "e345c8e8-80d6-4c33-af02-498f3ed183a3",
      "metadata": {
        "id": "e345c8e8-80d6-4c33-af02-498f3ed183a3",
        "outputId": "6e4dd8ce-5d31-4edd-a28a-2f14122ab14e"
      },
      "outputs": [
        {
          "data": {
            "text/plain": [
              "'Diagram illustrating a multi-layer network structure, labeled from Layer 1 to Layer 4. Each layer contains nodes (represented by colored circles) and connections (lines) between them, depicting varying configurations and relationships across the layers.'"
            ]
          },
          "execution_count": 50,
          "metadata": {},
          "output_type": "execute_result"
        }
      ],
      "source": [
        "image_summaries[0]"
      ]
    },
    {
      "cell_type": "code",
      "execution_count": null,
      "id": "6d4233ac-e886-4628-a289-346ea0871bea",
      "metadata": {
        "scrolled": true,
        "id": "6d4233ac-e886-4628-a289-346ea0871bea",
        "outputId": "00becfcb-ff57-4c2f-a89c-f12c85527957"
      },
      "outputs": [
        {
          "data": {
            "text/plain": [
              "['Diagram illustrating a multi-layer network structure, labeled from Layer 1 to Layer 4. Each layer contains nodes (represented by colored circles) and connections (lines) between them, depicting varying configurations and relationships across the layers.',\n",
              " 'The image is a histogram comparing two types of partitions: \"random partition\" (blue) and \"clustering partition\" (orange). The x-axis represents entropy values, while the y-axis shows the count of occurrences. The histogram indicates a higher concentration of counts for the \"clustering partition\" at higher entropy values, particularly around 3 to 4, compared to the \"random partition.\"',\n",
              " 'Illustration depicting the evolution of data partitions over multiple epochs. The left side shows original partitions in a grid format, transitioning to the first epoch (Epoch 1) in the center with colored blocks representing updated partitions. The right side indicates further changes in subsequent epochs (Epoch T), showcasing the dynamic nature of the partitioning process.',\n",
              " 'Line graph comparing performance metrics for \"Multiple clusters as a batch\" (solid blue line) and \"One cluster as a batch\" (dashed orange line) over a range of values (0 to 20). The y-axis represents the performance score, ranging from 0.80 to 1.00, while the x-axis indicates different batch configurations. The graph is labeled \"Reddit.\"',\n",
              " 'Graph depicting the performance of an 8-layer Graph Convolutional Network (GCN) on Protein-Protein Interaction (PPI) data. The plot shows a curve representing the accuracy of Cluster-GCN with enhanced diagonals, indicating a steady increase towards 1.0, while other methods exhibit varied performance. X-axis represents iterations (0 to 200) and Y-axis represents accuracy (0 to 1).',\n",
              " 'Line graph comparing the performance of three graph neural network models: Cluster-GCN, VRGCN, and GraphSAGE. The y-axis represents accuracy, ranging from 0.92 to 0.97, while the x-axis indicates the number of iterations from 0 to 30. Cluster-GCN shows the highest accuracy, followed by VRGCN and GraphSAGE, with distinct markers and lines for each model.',\n",
              " 'Graph comparing the performance of Cluster-GCN and VRGCN algorithms over iterations, showing accuracy on the y-axis and iteration count on the x-axis. Cluster-GCN is represented by a solid blue line, while VRGCN is shown with a dashed orange line. Both algorithms demonstrate an increase in accuracy, stabilizing around 0.80 after approximately 100 iterations.',\n",
              " 'Graph comparing the performance of Cluster-GCN and VRGCN algorithms over 100 iterations. The y-axis shows performance metrics ranging from 0.3 to 0.8, while the x-axis indicates the number of iterations. Cluster-GCN is represented by a solid blue line, showing stable performance, and VRGCN is represented by a dashed orange line, indicating initial fluctuations before stabilizing.',\n",
              " 'The image displays multiple line graphs comparing the performance of different graph neural network models—Cluster-GCN, VRGCN, and GraphSAGE—across various datasets (PPI, Reddit, and Amazon) and layer configurations (2, 3, and 4 layers). Each graph illustrates the accuracy metrics over different parameter settings, with Cluster-GCN consistently showing superior performance in most scenarios compared to the other models. The results are summarized in a table, highlighting specific accuracy percentages for different configurations.',\n",
              " 'Graph performance comparison chart featuring three models: Cluster-GCN (blue line), VRGCN (orange line), and GraphSAGE (green line). The x-axis represents iterations (0 to 100), while the y-axis indicates performance metrics (0.5 to 1.0). Cluster-GCN shows the highest performance, followed by VRGCN, with GraphSAGE maintaining a lower performance throughout.',\n",
              " 'Line graph comparing the performance of three graph neural network models: Cluster-GCN (blue line), VRGCN (orange dashed line), and GraphSAGE (green dashed line) over a range of iterations (0 to 30). The y-axis represents accuracy, ranging from 0.55 to 0.90. Cluster-GCN shows the highest performance, followed by VRGCN and then GraphSAGE.',\n",
              " 'Line graph comparing the performance of three graph neural network models: Cluster-GCN (blue line), VRGCN (orange dashed line), and GraphSAGE (green dashed line) across varying data sizes (x-axis from 0 to 100). The y-axis represents performance metrics, showing Cluster-GCN achieving the highest performance near 0.96, while VRGCN and GraphSAGE have lower and less stable performance.',\n",
              " 'Table summarizing datasets for inductive tasks, including splits for training, validation, and testing. Datasets listed: PPI, Reddit, Amazon, Amazon2M with corresponding data counts.',\n",
              " 'Table comparing clustering performance and preprocessing times across four datasets: PPI, Reddit, Amazon, and Amazon2M. Key metrics include the number of partitions, clustering duration (in seconds), and preprocessing time (in seconds).',\n",
              " 'Table comparing performance metrics of three datasets (Cora, Pubmed, PPI) under two partitioning methods: random partition and clustering partition. The scores indicate accuracy percentages for each dataset across the two methods.',\n",
              " 'Summary: A table displaying various datasets used for machine learning tasks, including PPI, Reddit, Amazon, and Amazon2M. Key attributes listed are task type (multi-label or multi-class), number of nodes, number of edges, number of labels, and number of features for each dataset.',\n",
              " 'Table summarizing datasets with columns for dataset names, number of hidden units, number of partitions, and number of clusters per batch. Datasets include PPI, Reddit, Amazon, and Amazon2M, with varying configurations.',\n",
              " 'Table displaying memory usage (in MB) of various graph neural network models (VRGCN, Cluster-GCN, GraphSAGE) across different datasets (PPI, Reddit, Amazon) for 2-layer, 3-layer, and 4-layer configurations. Each dataset is listed with corresponding memory requirements for each model and layer depth. Notable patterns include varying memory usage across models and layers, with specific values highlighted for each dataset.',\n",
              " 'Summary: A table displaying product categories and their quantities, including Books (668,950), CDs & Vinyl (172,199), and Toys & Games (158,771).',\n",
              " 'Comparison of average training times per epoch for PyTorch and TensorFlow with batch sizes of 128 and 512. PyTorch takes 8.81s (128) and 45.08s (512), while TensorFlow takes 2.53s (128) and 7.13s (512).',\n",
              " 'Summary: Comparative performance table for VRGCN and Cluster-GCN algorithms on the Amazon2M dataset, detailing execution time (in seconds), memory usage (in MB), and test F1 scores for 2-layer, 3-layer, and 4-layer configurations. Highlights include faster execution and lower memory use for VRGCN in 2-layer and 3-layer models, while the 4-layer VRGCN shows out-of-memory (OOM) issues.',\n",
              " 'Table comparing performance metrics of various graph neural network models on PPI and Reddit datasets. Models listed include FastGCN, GraphSAGE, VR-GCN, GaAN, GAT, GeniePath, and Cluster-GCN, with corresponding scores for PPI and Reddit. Notable highest scores include Cluster-GCN for PPI (99.36) and GraphSAGE for Reddit (95.4).',\n",
              " 'Table comparing execution times (in seconds) for Cluster-GCN and VRGCN models across various layer configurations (2-layer to 6-layer). Cluster-GCN shows lower execution times than VRGCN in all configurations.',\n",
              " 'Table displaying performance metrics of various Cluster-GCN configurations across different layer depths (2-layer to 8-layer). Each configuration is evaluated based on its accuracy percentages, with the highest scores indicated for each layer. Notable configurations include \"(1)\", \"(10)\", and their combinations, with specific emphasis on performance drops in 7-layer and 8-layer setups.']"
            ]
          },
          "execution_count": 52,
          "metadata": {},
          "output_type": "execute_result"
        }
      ],
      "source": [
        "image_summaries"
      ]
    },
    {
      "cell_type": "code",
      "execution_count": null,
      "id": "cd87619c-75c7-4233-b3b3-6a9e9ea15db6",
      "metadata": {
        "id": "cd87619c-75c7-4233-b3b3-6a9e9ea15db6"
      },
      "outputs": [],
      "source": [
        "# experiment 1: Storing text embeddings of image_summary and raw text only in vecotre store (raw images will be given to llm)\n",
        "# We will use GPT4ALL embeddings and chroma vectore storage"
      ]
    },
    {
      "cell_type": "code",
      "execution_count": null,
      "id": "ccc2a7e6-b415-4e81-8f34-39a6f6d2c16c",
      "metadata": {
        "id": "ccc2a7e6-b415-4e81-8f34-39a6f6d2c16c"
      },
      "outputs": [],
      "source": [
        "from langchain.text_splitter import RecursiveCharacterTextSplitter"
      ]
    },
    {
      "cell_type": "code",
      "execution_count": null,
      "id": "598021b3-3394-4f7c-acea-5355c735b90e",
      "metadata": {
        "id": "598021b3-3394-4f7c-acea-5355c735b90e"
      },
      "outputs": [],
      "source": [
        "text_splitter = RecursiveCharacterTextSplitter(\n",
        "    # Set a really small chunk size, just to show.\n",
        "    chunk_size=300,\n",
        "    chunk_overlap = 10\n",
        ")"
      ]
    },
    {
      "cell_type": "code",
      "execution_count": null,
      "id": "32b946af-68e6-47b8-9835-64542ccf3da7",
      "metadata": {
        "id": "32b946af-68e6-47b8-9835-64542ccf3da7",
        "outputId": "e37148f3-adf5-4705-a073-9a6d838ab037"
      },
      "outputs": [
        {
          "name": "stdout",
          "output_type": "stream",
          "text": [
            "144\n"
          ]
        }
      ],
      "source": [
        "doc_texts = text_splitter.create_documents(doc_texts_saved)\n",
        "\n",
        "print(len(doc_texts))\n"
      ]
    },
    {
      "cell_type": "code",
      "execution_count": null,
      "id": "1e429544-25c7-49c7-b3dd-9e7934e5e51a",
      "metadata": {
        "id": "1e429544-25c7-49c7-b3dd-9e7934e5e51a",
        "outputId": "5f77065c-731f-4a2e-b45a-132bcc646579"
      },
      "outputs": [
        {
          "name": "stdout",
          "output_type": "stream",
          "text": [
            "34\n"
          ]
        }
      ],
      "source": [
        "image_texts = text_splitter.create_documents(image_texts_saved)\n",
        "\n",
        "print(len(image_texts))"
      ]
    },
    {
      "cell_type": "code",
      "execution_count": null,
      "id": "63afdc93-7e39-4ae4-b644-98d78fa4a1d1",
      "metadata": {
        "id": "63afdc93-7e39-4ae4-b644-98d78fa4a1d1"
      },
      "outputs": [],
      "source": [
        "import uuid\n",
        "\n",
        "from langchain.retrievers.multi_vector import MultiVectorRetriever\n",
        "from langchain.storage import InMemoryStore\n",
        "from langchain_openai import OpenAIEmbeddings\n",
        "from langchain_core.documents import Document\n",
        "from langchain_chroma import Chroma\n",
        "import chromadb\n",
        "from chromadb.config import Settings\n"
      ]
    },
    {
      "cell_type": "code",
      "execution_count": null,
      "id": "de6d8a4d-d82c-47e7-aa04-947ce84abb5c",
      "metadata": {
        "id": "de6d8a4d-d82c-47e7-aa04-947ce84abb5c"
      },
      "outputs": [],
      "source": [
        "# While storing embeddings, in vectore store we will to following steps:\n",
        "''''\n",
        "step1: Intialize vectore store and retriver\n",
        "step2: Add text and image summary\n",
        "'''"
      ]
    },
    {
      "cell_type": "code",
      "execution_count": null,
      "id": "950e9688-0736-4214-a4d7-b829e5b99b66",
      "metadata": {
        "id": "950e9688-0736-4214-a4d7-b829e5b99b66"
      },
      "outputs": [],
      "source": [
        "# Delete the entire collection\n",
        "vectorstore.delete_collection()\n"
      ]
    },
    {
      "cell_type": "code",
      "execution_count": null,
      "id": "ed188a1a-8563-4237-9bb1-f24fde3d465f",
      "metadata": {
        "id": "ed188a1a-8563-4237-9bb1-f24fde3d465f"
      },
      "outputs": [],
      "source": [
        "# Intiallizing vector_Store\n",
        "vectorstore = Chroma(\n",
        "    collection_name=\"Doc_Summarization\", embedding_function=OpenAIEmbeddings(),\n",
        "    persist_directory= \"C:\\chroma\"\n",
        ")"
      ]
    },
    {
      "cell_type": "code",
      "execution_count": null,
      "id": "390d2979-3196-475d-8f12-7c8760ac0b5f",
      "metadata": {
        "id": "390d2979-3196-475d-8f12-7c8760ac0b5f"
      },
      "outputs": [],
      "source": [
        "# Intiallizing vector retriver and using in memory storage"
      ]
    },
    {
      "cell_type": "code",
      "execution_count": null,
      "id": "51fa71f0-47ef-419f-9a8f-47c7fd843ba1",
      "metadata": {
        "id": "51fa71f0-47ef-419f-9a8f-47c7fd843ba1"
      },
      "outputs": [],
      "source": [
        "from langchain.storage import InMemoryByteStore"
      ]
    },
    {
      "cell_type": "code",
      "execution_count": null,
      "id": "10a4d52c-193c-46f3-941a-549ec0054dc3",
      "metadata": {
        "id": "10a4d52c-193c-46f3-941a-549ec0054dc3"
      },
      "outputs": [],
      "source": [
        "store = InMemoryByteStore()\n",
        "id_key = \"doc_id\""
      ]
    },
    {
      "cell_type": "code",
      "execution_count": null,
      "id": "3e9cd89f-95d1-4106-8c65-4f40949211f6",
      "metadata": {
        "id": "3e9cd89f-95d1-4106-8c65-4f40949211f6"
      },
      "outputs": [],
      "source": [
        "retriever = MultiVectorRetriever(\n",
        "    vectorstore=vectorstore,\n",
        "    byte_store=store,\n",
        "    id_key=id_key\n",
        ")"
      ]
    },
    {
      "cell_type": "code",
      "execution_count": null,
      "id": "ab435c76-f1cc-4b29-bd35-5ac837b1e330",
      "metadata": {
        "id": "ab435c76-f1cc-4b29-bd35-5ac837b1e330"
      },
      "outputs": [],
      "source": [
        "doc_id = [str(uuid.uuid4()) for i in doc_texts]"
      ]
    },
    {
      "cell_type": "code",
      "execution_count": null,
      "id": "a582d4e8-2e33-4342-8a57-2b6534070a92",
      "metadata": {
        "id": "a582d4e8-2e33-4342-8a57-2b6534070a92"
      },
      "outputs": [],
      "source": [
        "Text_docs = [\n",
        "    Document(page_content=s.page_content, metadata={id_key: doc_id[i]})\n",
        "    for i, s in enumerate(doc_texts)\n",
        "]\n",
        "retriever.vectorstore.add_documents(doc_texts)\n",
        "retriever.docstore.mset(list(zip(doc_id, doc_texts)))\n"
      ]
    },
    {
      "cell_type": "code",
      "execution_count": null,
      "id": "5c7994b7-6506-4f77-abb2-b42af71cc2f6",
      "metadata": {
        "id": "5c7994b7-6506-4f77-abb2-b42af71cc2f6"
      },
      "outputs": [],
      "source": [
        "image_id =[str(uuid.uuid4()) for _ in image_texts]\n",
        "\n",
        "image_docs =[\n",
        "     Document(page_content=s.page_content, metadata={id_key: image_id[i]})\n",
        "    for i, s in enumerate(image_texts)\n",
        "]\n",
        "retriever.vectorstore.add_documents(image_texts)\n",
        "retriever.docstore.mset(list(zip(image_id, image_texts)))"
      ]
    },
    {
      "cell_type": "raw",
      "id": "4cc2f396-63a7-4937-817c-54e34fc88bcb",
      "metadata": {
        "id": "4cc2f396-63a7-4937-817c-54e34fc88bcb"
      },
      "source": [
        "retriever"
      ]
    },
    {
      "cell_type": "code",
      "execution_count": null,
      "id": "6a8b0981-153a-44e5-9803-c1c314df99d1",
      "metadata": {
        "id": "6a8b0981-153a-44e5-9803-c1c314df99d1",
        "outputId": "ee818303-7ead-42bf-8510-37e17ceeff6c"
      },
      "outputs": [
        {
          "data": {
            "text/plain": [
              "[]"
            ]
          },
          "execution_count": 175,
          "metadata": {},
          "output_type": "execute_result"
        }
      ],
      "source": [
        "# Example of invoking the retriever with a sample query\n",
        "query = \" whaExperimental results on Amazon2M\"\n",
        "# retriever.vectorstore.similarity_search(query)\n",
        "await retriever.ainvoke(query)"
      ]
    },
    {
      "cell_type": "code",
      "execution_count": null,
      "id": "a92ff4d8-dc5b-4708-ab86-7e3b521c0a82",
      "metadata": {
        "id": "a92ff4d8-dc5b-4708-ab86-7e3b521c0a82"
      },
      "outputs": [],
      "source": [
        "def retrieve_context(question):\n",
        "    docs = retriever.similarity_search(question)\n",
        "    print(\"i am here\")\n",
        "    # Combining the text from all documents into a single string\n",
        "    context = \"\\n\".join([doc.page_content for doc in docs])\n",
        "    return context"
      ]
    },
    {
      "cell_type": "code",
      "execution_count": null,
      "id": "cd491f9c-34da-4ad1-a671-5b4cc664160b",
      "metadata": {
        "id": "cd491f9c-34da-4ad1-a671-5b4cc664160b"
      },
      "outputs": [],
      "source": [
        "from langchain_core.runnables import Runnable, RunnablePassthrough"
      ]
    },
    {
      "cell_type": "code",
      "execution_count": null,
      "id": "8d646f2c-0640-47a9-9717-4937c3427719",
      "metadata": {
        "id": "8d646f2c-0640-47a9-9717-4937c3427719"
      },
      "outputs": [],
      "source": [
        "template = \"\"\"Answer the question based only on the following context, which include raw text and image summaries:\n",
        "{context}\n",
        "Question: {question}\n",
        "\"\"\""
      ]
    },
    {
      "cell_type": "code",
      "execution_count": null,
      "id": "cb0318dd-67f5-4c06-8f0d-a755c6344499",
      "metadata": {
        "id": "cb0318dd-67f5-4c06-8f0d-a755c6344499"
      },
      "outputs": [],
      "source": [
        "from langchain_core.prompts import ChatPromptTemplate\n"
      ]
    },
    {
      "cell_type": "code",
      "execution_count": null,
      "id": "d1723d90-00d6-4290-993c-795b261bd479",
      "metadata": {
        "id": "d1723d90-00d6-4290-993c-795b261bd479"
      },
      "outputs": [],
      "source": [
        "prompt = ChatPromptTemplate.from_template(template)"
      ]
    },
    {
      "cell_type": "code",
      "execution_count": null,
      "id": "f2571428-0088-4d9c-970c-3470a915fbbe",
      "metadata": {
        "id": "f2571428-0088-4d9c-970c-3470a915fbbe"
      },
      "outputs": [],
      "source": [
        "from langchain_community.llms import Ollama"
      ]
    },
    {
      "cell_type": "code",
      "execution_count": null,
      "id": "cc81f7be-0fc0-4df0-9609-ee3c38661d1c",
      "metadata": {
        "id": "cc81f7be-0fc0-4df0-9609-ee3c38661d1c"
      },
      "outputs": [],
      "source": [
        "model = ChatOllama(model=\"llama3.2:1b \" ,temperature = 1)"
      ]
    },
    {
      "cell_type": "code",
      "execution_count": null,
      "id": "e38b88b2-a8f7-4d32-811c-383ba1e479d5",
      "metadata": {
        "id": "e38b88b2-a8f7-4d32-811c-383ba1e479d5"
      },
      "outputs": [],
      "source": [
        "from langchain_core.output_parsers import StrOutputParser"
      ]
    },
    {
      "cell_type": "code",
      "execution_count": null,
      "id": "09b442a7-6156-4360-bb59-75db757c6300",
      "metadata": {
        "id": "09b442a7-6156-4360-bb59-75db757c6300"
      },
      "outputs": [],
      "source": [
        "# RAG pipeline\n",
        "chain = (\n",
        "    {\n",
        "        \"context\": retriever,\n",
        "        \"question\": RunnablePassthrough()\n",
        "    }\n",
        "    | prompt\n",
        "    | model\n",
        "    | StrOutputParser()\n",
        ")"
      ]
    },
    {
      "cell_type": "code",
      "execution_count": null,
      "id": "af02765e-ce0d-4431-966c-cd85d31520b4",
      "metadata": {
        "id": "af02765e-ce0d-4431-966c-cd85d31520b4",
        "outputId": "4fa07451-ccdd-44b0-8461-a5e17490e29c"
      },
      "outputs": [
        {
          "data": {
            "text/plain": [
              "\"I'm sorry but I can't fulfill your request.\""
            ]
          },
          "execution_count": 173,
          "metadata": {},
          "output_type": "execute_result"
        }
      ],
      "source": [
        "chain.invoke(\n",
        "    \"provide a concise summary of the context it has image and text summary of the documet use both of them\"\n",
        ")"
      ]
    },
    {
      "cell_type": "code",
      "execution_count": null,
      "id": "dc2d9f6c-3d1d-40ea-baa6-f34cabb85c96",
      "metadata": {
        "id": "dc2d9f6c-3d1d-40ea-baa6-f34cabb85c96"
      },
      "outputs": [],
      "source": []
    }
  ],
  "metadata": {
    "kernelspec": {
      "display_name": "Python 3 (ipykernel)",
      "language": "python",
      "name": "python3"
    },
    "language_info": {
      "codemirror_mode": {
        "name": "ipython",
        "version": 3
      },
      "file_extension": ".py",
      "mimetype": "text/x-python",
      "name": "python",
      "nbconvert_exporter": "python",
      "pygments_lexer": "ipython3",
      "version": "3.11.4"
    },
    "colab": {
      "provenance": [],
      "toc_visible": true,
      "include_colab_link": true
    }
  },
  "nbformat": 4,
  "nbformat_minor": 5
}